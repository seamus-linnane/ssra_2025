{
  "cells": [
    {
      "cell_type": "markdown",
      "metadata": {},
      "source": [
        "# Pulmonary Function Test XML Extraction\n",
        "\n",
        "This notebook demonstrates the final pipeline for parsing PFT XML files. The standalone `pft_extractor.py` script can be used for production runs."
      ]
    },
    {
      "cell_type": "code",
      "execution_count": null,
      "metadata": {},
      "outputs": [],
      "source": [
        "from pathlib import Path\n",
        "from pft_extractor import process_xml_files\n",
        "\n",
        "xml_files = [\n",
        "    Path('example.xml'),  # replace with your actual files\n",
        "]\n",
        "\n",
        "process_xml_files(xml_files, Path('.'))\n"
      ]
    }
  ],
  "metadata": {
    "kernelspec": {
      "display_name": "Python 3",
      "language": "python",
      "name": "python3"
    },
    "language_info": {
      "name": "python",
      "version": "3.10"
    }
  },
  "nbformat": 4,
  "nbformat_minor": 5
}